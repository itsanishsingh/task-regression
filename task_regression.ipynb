{
 "cells": [
  {
   "cell_type": "markdown",
   "id": "9373e208-3291-469b-80ea-badaff029d08",
   "metadata": {},
   "source": [
    "# Correlation and Regression Analysis"
   ]
  },
  {
   "cell_type": "markdown",
   "id": "229acc4d-0afa-4ef6-adb7-48febc3766e4",
   "metadata": {},
   "source": [
    "## Correlation Analysis\n",
    "<p>\n",
    "    Correlation analysis is a statistical technique for determining the strength of a link between two variables. It is used to detect patterns and trends in data and to forecast future occurrences.\n",
    "</p>\n",
    "\n",
    "* Consider a problem with different factors to be considered for making optimal conclusions\n",
    "* Correlation explains how these variables are dependent on each other.\n",
    "* Correlation quantifies how strong the relationship between two variables is. A higher value of the correlation coefficient implies a stronger association.\n",
    "* The sign of the correlation coefficient indicates the direction of the relationship between variables. It can be either positive, negative, or zero."
   ]
  },
  {
   "cell_type": "markdown",
   "id": "79a63265-12ab-4001-a3de-8acbeeb84db2",
   "metadata": {},
   "source": [
    "### Pearson correlation coefficient\n",
    "<p>\n",
    "    The Pearson correlation coefficient is the most often used metric of correlation. It expresses the linear relationship between two variables in numerical terms. The Pearson correlation coefficient, written as “r,” is as follows:\n",
    "\n",
    "r=∑(xi−xˉ)(yi−yˉ) / ∑(xi−xˉ)^2∑(yi−yˉ)^2\n",
    "\n",
    "where,\n",
    "\n",
    "    r: Correlation coefficient \n",
    "    xi​ : i^th value first dataset X\n",
    "    xˉ : Mean of first dataset X\n",
    "    yi​ : i^th value second dataset Y\n",
    "    yˉ​ : Mean of second dataset Y\n",
    "</p>"
   ]
  },
  {
   "cell_type": "markdown",
   "id": "c3afa9d6-11bb-4617-b678-0abf56a53fc8",
   "metadata": {},
   "source": [
    "### Spearnman correlation coefficient\n",
    "<p>\n",
    "    Spearman’s Rank Correlation Coefficient is a method of calculating the correlation coefficient of qualitative variables and was developed in 1904 by Charles Edward Spearman. In other words, the formula determines the correlation coefficient of variables like beauty, ability, honesty, etc., whose quantitative measurement is not possible. Therefore, these attributes are ranked or put in the order of their preference. \n",
    "\n",
    "rk =1 – (6∑D^2)/(N^3–N)\n",
    "\n",
    "In the given formula,\n",
    "\n",
    "rk = Coefficient of rank correlation\n",
    "\n",
    "D = Rank differences\n",
    "\n",
    "N = Number of variables\n",
    "</p>"
   ]
  },
  {
   "cell_type": "code",
   "execution_count": 1,
   "id": "73762127-2096-4225-bcf3-4504d85ea17b",
   "metadata": {},
   "outputs": [],
   "source": [
    "# Importing libraries\n",
    "import seaborn as sns\n",
    "import pandas as pd\n",
    "import numpy as np"
   ]
  },
  {
   "cell_type": "code",
   "execution_count": 2,
   "id": "190a1bcd-8664-401b-af45-6463dff9c353",
   "metadata": {},
   "outputs": [],
   "source": [
    "df = sns.load_dataset('iris')"
   ]
  },
  {
   "cell_type": "code",
   "execution_count": 3,
   "id": "a0707b0e-7359-4034-aa3e-f8e9ed6917db",
   "metadata": {},
   "outputs": [
    {
     "data": {
      "text/html": [
       "<div>\n",
       "<style scoped>\n",
       "    .dataframe tbody tr th:only-of-type {\n",
       "        vertical-align: middle;\n",
       "    }\n",
       "\n",
       "    .dataframe tbody tr th {\n",
       "        vertical-align: top;\n",
       "    }\n",
       "\n",
       "    .dataframe thead th {\n",
       "        text-align: right;\n",
       "    }\n",
       "</style>\n",
       "<table border=\"1\" class=\"dataframe\">\n",
       "  <thead>\n",
       "    <tr style=\"text-align: right;\">\n",
       "      <th></th>\n",
       "      <th>sepal_length</th>\n",
       "      <th>sepal_width</th>\n",
       "      <th>petal_length</th>\n",
       "      <th>petal_width</th>\n",
       "    </tr>\n",
       "  </thead>\n",
       "  <tbody>\n",
       "    <tr>\n",
       "      <th>sepal_length</th>\n",
       "      <td>1.000000</td>\n",
       "      <td>-0.117570</td>\n",
       "      <td>0.871754</td>\n",
       "      <td>0.817941</td>\n",
       "    </tr>\n",
       "    <tr>\n",
       "      <th>sepal_width</th>\n",
       "      <td>-0.117570</td>\n",
       "      <td>1.000000</td>\n",
       "      <td>-0.428440</td>\n",
       "      <td>-0.366126</td>\n",
       "    </tr>\n",
       "    <tr>\n",
       "      <th>petal_length</th>\n",
       "      <td>0.871754</td>\n",
       "      <td>-0.428440</td>\n",
       "      <td>1.000000</td>\n",
       "      <td>0.962865</td>\n",
       "    </tr>\n",
       "    <tr>\n",
       "      <th>petal_width</th>\n",
       "      <td>0.817941</td>\n",
       "      <td>-0.366126</td>\n",
       "      <td>0.962865</td>\n",
       "      <td>1.000000</td>\n",
       "    </tr>\n",
       "  </tbody>\n",
       "</table>\n",
       "</div>"
      ],
      "text/plain": [
       "              sepal_length  sepal_width  petal_length  petal_width\n",
       "sepal_length      1.000000    -0.117570      0.871754     0.817941\n",
       "sepal_width      -0.117570     1.000000     -0.428440    -0.366126\n",
       "petal_length      0.871754    -0.428440      1.000000     0.962865\n",
       "petal_width       0.817941    -0.366126      0.962865     1.000000"
      ]
     },
     "execution_count": 3,
     "metadata": {},
     "output_type": "execute_result"
    }
   ],
   "source": [
    "x = df.drop(['species'], axis=1)\n",
    "x.corr()"
   ]
  },
  {
   "cell_type": "markdown",
   "id": "33341b62-2ea1-4dc1-aff8-b1ea22262e43",
   "metadata": {},
   "source": [
    "The above result shows the correlation between each variables.\n",
    "\n",
    "* Closer to 1 means there is a positive correlation\n",
    "* Closer to -1 means there is a negative correaltion\n",
    "\n",
    "These are called directions and strength represents how well the variables are correlated,\n",
    "\n",
    "* 1 means Perfect correaltion\n",
    "* 0.9 to 0.6 means strong correlation\n",
    "* 0.5 to 0.3 means moderate correlation\n",
    "* 0.3 to 0.1 means weak correlation\n",
    "* 0 means no correlation\n",
    "\n",
    "Same is true for negative correaltion as well\n",
    "\n",
    "Lets try to calculate correlation between sepal_length and petal_length ourselves"
   ]
  },
  {
   "cell_type": "code",
   "execution_count": 4,
   "id": "f422883f-baaf-43ca-a91a-3a163bf3c591",
   "metadata": {},
   "outputs": [
    {
     "data": {
      "text/plain": [
       "0.8717537758865832"
      ]
     },
     "execution_count": 4,
     "metadata": {},
     "output_type": "execute_result"
    }
   ],
   "source": [
    "sepal_length = df['sepal_length']\n",
    "petal_length = df['petal_length']\n",
    "\n",
    "# Using the pearman method\n",
    "sepal_mean = sepal_length.mean()\n",
    "petal_mean = petal_length.mean()\n",
    "\n",
    "formula_top = sum([(ele_1-sepal_mean) * (ele_2-petal_mean) for ele_1, ele_2 in zip(sepal_length, petal_length)])\n",
    "formula_bottom_1 = sum([(ele-sepal_mean) ** 2 for ele in sepal_length])\n",
    "formula_bottom_2 = sum([(ele-petal_mean) ** 2 for ele in petal_length])\n",
    "formula_bottom = (formula_bottom_1 * formula_bottom_2) ** (1/2)\n",
    "\n",
    "result = formula_top / formula_bottom\n",
    "result"
   ]
  },
  {
   "cell_type": "markdown",
   "id": "b74dad2d-bc2a-4148-8662-fef468f113f8",
   "metadata": {},
   "source": [
    "As we can see from the above result the correlation is same"
   ]
  },
  {
   "cell_type": "code",
   "execution_count": null,
   "id": "8ab50920-c02f-44d1-86b3-5d3d6f348ae6",
   "metadata": {},
   "outputs": [],
   "source": []
  }
 ],
 "metadata": {
  "kernelspec": {
   "display_name": "Python 3 (ipykernel)",
   "language": "python",
   "name": "python3"
  },
  "language_info": {
   "codemirror_mode": {
    "name": "ipython",
    "version": 3
   },
   "file_extension": ".py",
   "mimetype": "text/x-python",
   "name": "python",
   "nbconvert_exporter": "python",
   "pygments_lexer": "ipython3",
   "version": "3.12.2"
  }
 },
 "nbformat": 4,
 "nbformat_minor": 5
}
