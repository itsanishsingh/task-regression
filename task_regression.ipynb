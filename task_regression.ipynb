{
 "cells": [
  {
   "cell_type": "markdown",
   "id": "9373e208-3291-469b-80ea-badaff029d08",
   "metadata": {},
   "source": [
    "# Correlation and Regression Analysis"
   ]
  },
  {
   "cell_type": "markdown",
   "id": "229acc4d-0afa-4ef6-adb7-48febc3766e4",
   "metadata": {},
   "source": [
    "## Correlation Analysis\n",
    "<p>\n",
    "    Correlation analysis is a statistical technique for determining the strength of a link between two variables. It is used to detect patterns and trends in data and to forecast future occurrences.\n",
    "</p>\n",
    "\n",
    "* Consider a problem with different factors to be considered for making optimal conclusions\n",
    "* Correlation explains how these variables are dependent on each other.\n",
    "* Correlation quantifies how strong the relationship between two variables is. A higher value of the correlation coefficient implies a stronger association.\n",
    "* The sign of the correlation coefficient indicates the direction of the relationship between variables. It can be either positive, negative, or zero."
   ]
  },
  {
   "cell_type": "markdown",
   "id": "79a63265-12ab-4001-a3de-8acbeeb84db2",
   "metadata": {},
   "source": [
    "### Pearson correlation coefficient\n",
    "<p>\n",
    "    The Pearson correlation coefficient is the most often used metric of correlation. It expresses the linear relationship between two variables in numerical terms. The Pearson correlation coefficient, written as “r,” is as follows:\n",
    "\n",
    "r=∑(xi−xˉ)(yi−yˉ) / ∑(xi−xˉ)^2∑(yi−yˉ)^2\n",
    "\n",
    "where,\n",
    "\n",
    "    r: Correlation coefficient \n",
    "    xi​ : i^th value first dataset X\n",
    "    xˉ : Mean of first dataset X\n",
    "    yi​ : i^th value second dataset Y\n",
    "    yˉ​ : Mean of second dataset Y\n",
    "</p>"
   ]
  },
  {
   "cell_type": "markdown",
   "id": "c3afa9d6-11bb-4617-b678-0abf56a53fc8",
   "metadata": {},
   "source": [
    "### Spearnman correlation coefficient\n",
    "<p>\n",
    "    Spearman’s Rank Correlation Coefficient is a method of calculating the correlation coefficient of qualitative variables and was developed in 1904 by Charles Edward Spearman. In other words, the formula determines the correlation coefficient of variables like beauty, ability, honesty, etc., whose quantitative measurement is not possible. Therefore, these attributes are ranked or put in the order of their preference. \n",
    "\n",
    "rk =1 – (6∑D^2)/(N^3–N)\n",
    "\n",
    "In the given formula,\n",
    "\n",
    "rk = Coefficient of rank correlation\n",
    "\n",
    "D = Rank differences\n",
    "\n",
    "N = Number of variables\n",
    "</p>"
   ]
  },
  {
   "cell_type": "code",
   "execution_count": 1,
   "id": "73762127-2096-4225-bcf3-4504d85ea17b",
   "metadata": {},
   "outputs": [],
   "source": [
    "# Importing libraries\n",
    "import seaborn as sns\n",
    "import pandas as pd\n",
    "import numpy as np\n",
    "from matplotlib import pyplot as plt"
   ]
  },
  {
   "cell_type": "code",
   "execution_count": 2,
   "id": "190a1bcd-8664-401b-af45-6463dff9c353",
   "metadata": {},
   "outputs": [],
   "source": [
    "df = sns.load_dataset('iris')"
   ]
  },
  {
   "cell_type": "code",
   "execution_count": 3,
   "id": "a0707b0e-7359-4034-aa3e-f8e9ed6917db",
   "metadata": {},
   "outputs": [
    {
     "data": {
      "text/html": [
       "<div>\n",
       "<style scoped>\n",
       "    .dataframe tbody tr th:only-of-type {\n",
       "        vertical-align: middle;\n",
       "    }\n",
       "\n",
       "    .dataframe tbody tr th {\n",
       "        vertical-align: top;\n",
       "    }\n",
       "\n",
       "    .dataframe thead th {\n",
       "        text-align: right;\n",
       "    }\n",
       "</style>\n",
       "<table border=\"1\" class=\"dataframe\">\n",
       "  <thead>\n",
       "    <tr style=\"text-align: right;\">\n",
       "      <th></th>\n",
       "      <th>sepal_length</th>\n",
       "      <th>sepal_width</th>\n",
       "      <th>petal_length</th>\n",
       "      <th>petal_width</th>\n",
       "    </tr>\n",
       "  </thead>\n",
       "  <tbody>\n",
       "    <tr>\n",
       "      <th>sepal_length</th>\n",
       "      <td>1.000000</td>\n",
       "      <td>-0.117570</td>\n",
       "      <td>0.871754</td>\n",
       "      <td>0.817941</td>\n",
       "    </tr>\n",
       "    <tr>\n",
       "      <th>sepal_width</th>\n",
       "      <td>-0.117570</td>\n",
       "      <td>1.000000</td>\n",
       "      <td>-0.428440</td>\n",
       "      <td>-0.366126</td>\n",
       "    </tr>\n",
       "    <tr>\n",
       "      <th>petal_length</th>\n",
       "      <td>0.871754</td>\n",
       "      <td>-0.428440</td>\n",
       "      <td>1.000000</td>\n",
       "      <td>0.962865</td>\n",
       "    </tr>\n",
       "    <tr>\n",
       "      <th>petal_width</th>\n",
       "      <td>0.817941</td>\n",
       "      <td>-0.366126</td>\n",
       "      <td>0.962865</td>\n",
       "      <td>1.000000</td>\n",
       "    </tr>\n",
       "  </tbody>\n",
       "</table>\n",
       "</div>"
      ],
      "text/plain": [
       "              sepal_length  sepal_width  petal_length  petal_width\n",
       "sepal_length      1.000000    -0.117570      0.871754     0.817941\n",
       "sepal_width      -0.117570     1.000000     -0.428440    -0.366126\n",
       "petal_length      0.871754    -0.428440      1.000000     0.962865\n",
       "petal_width       0.817941    -0.366126      0.962865     1.000000"
      ]
     },
     "execution_count": 3,
     "metadata": {},
     "output_type": "execute_result"
    }
   ],
   "source": [
    "x = df.drop(['species'], axis=1)\n",
    "x.corr()"
   ]
  },
  {
   "cell_type": "markdown",
   "id": "33341b62-2ea1-4dc1-aff8-b1ea22262e43",
   "metadata": {},
   "source": [
    "The above result shows the correlation between each variables.\n",
    "\n",
    "* Closer to 1 means there is a positive correlation\n",
    "* Closer to -1 means there is a negative correaltion\n",
    "\n",
    "These are called directions and strength represents how well the variables are correlated,\n",
    "\n",
    "* 1 means Perfect correaltion\n",
    "* 0.9 to 0.6 means strong correlation\n",
    "* 0.5 to 0.3 means moderate correlation\n",
    "* 0.3 to 0.1 means weak correlation\n",
    "* 0 means no correlation\n",
    "\n",
    "Same is true for negative correaltion as well\n",
    "\n",
    "Lets try to calculate correlation between sepal_length and petal_length ourselves"
   ]
  },
  {
   "cell_type": "code",
   "execution_count": 4,
   "id": "f422883f-baaf-43ca-a91a-3a163bf3c591",
   "metadata": {},
   "outputs": [
    {
     "data": {
      "text/plain": [
       "0.8717537758865832"
      ]
     },
     "execution_count": 4,
     "metadata": {},
     "output_type": "execute_result"
    }
   ],
   "source": [
    "sepal_length = df['sepal_length']\n",
    "petal_length = df['petal_length']\n",
    "\n",
    "# Using the pearson method\n",
    "sepal_mean = sepal_length.mean()\n",
    "petal_mean = petal_length.mean()\n",
    "\n",
    "formula_top = sum([(ele_1-sepal_mean) * (ele_2-petal_mean) for ele_1, ele_2 in zip(sepal_length, petal_length)])\n",
    "formula_bottom_1 = sum([(ele-sepal_mean) ** 2 for ele in sepal_length])\n",
    "formula_bottom_2 = sum([(ele-petal_mean) ** 2 for ele in petal_length])\n",
    "formula_bottom = (formula_bottom_1 * formula_bottom_2) ** (1/2)\n",
    "\n",
    "result = formula_top / formula_bottom\n",
    "result"
   ]
  },
  {
   "cell_type": "markdown",
   "id": "b74dad2d-bc2a-4148-8662-fef468f113f8",
   "metadata": {},
   "source": [
    "As we can see from the above result the correlation is same"
   ]
  },
  {
   "cell_type": "markdown",
   "id": "c510792c-18ac-4de6-8c23-96b629d5e54b",
   "metadata": {},
   "source": [
    "## Regression Analysis\n",
    "<p>\n",
    "    Regression Analysis is a supervised learning analysis where supervised learning is the analyzing or predicting the data based on the previously available data or past data. For supervised learning, we have both train data and test data. Regression analysis is one of the statistical methods for the analysis and prediction of the data. Regression analysis is used for predictive data or quantitative or numerical data. \n",
    "</p>"
   ]
  },
  {
   "cell_type": "markdown",
   "id": "74307984-14f2-41fe-9e35-922828f34c40",
   "metadata": {},
   "source": [
    "### Simple Linear Regression\n",
    "<p>\n",
    "    This involves predicting a dependent variable based on a single independent variable.\n",
    "</p>\n",
    "\n",
    "Lets try to apply SLR to the tips dataset"
   ]
  },
  {
   "cell_type": "code",
   "execution_count": 5,
   "id": "6ea344a3-187a-41d4-8b60-4f43a6431a57",
   "metadata": {},
   "outputs": [
    {
     "data": {
      "text/html": [
       "<div>\n",
       "<style scoped>\n",
       "    .dataframe tbody tr th:only-of-type {\n",
       "        vertical-align: middle;\n",
       "    }\n",
       "\n",
       "    .dataframe tbody tr th {\n",
       "        vertical-align: top;\n",
       "    }\n",
       "\n",
       "    .dataframe thead th {\n",
       "        text-align: right;\n",
       "    }\n",
       "</style>\n",
       "<table border=\"1\" class=\"dataframe\">\n",
       "  <thead>\n",
       "    <tr style=\"text-align: right;\">\n",
       "      <th></th>\n",
       "      <th>total_bill</th>\n",
       "      <th>tip</th>\n",
       "      <th>sex</th>\n",
       "      <th>smoker</th>\n",
       "      <th>day</th>\n",
       "      <th>time</th>\n",
       "      <th>size</th>\n",
       "    </tr>\n",
       "  </thead>\n",
       "  <tbody>\n",
       "    <tr>\n",
       "      <th>0</th>\n",
       "      <td>16.99</td>\n",
       "      <td>1.01</td>\n",
       "      <td>Female</td>\n",
       "      <td>No</td>\n",
       "      <td>Sun</td>\n",
       "      <td>Dinner</td>\n",
       "      <td>2</td>\n",
       "    </tr>\n",
       "    <tr>\n",
       "      <th>1</th>\n",
       "      <td>10.34</td>\n",
       "      <td>1.66</td>\n",
       "      <td>Male</td>\n",
       "      <td>No</td>\n",
       "      <td>Sun</td>\n",
       "      <td>Dinner</td>\n",
       "      <td>3</td>\n",
       "    </tr>\n",
       "    <tr>\n",
       "      <th>2</th>\n",
       "      <td>21.01</td>\n",
       "      <td>3.50</td>\n",
       "      <td>Male</td>\n",
       "      <td>No</td>\n",
       "      <td>Sun</td>\n",
       "      <td>Dinner</td>\n",
       "      <td>3</td>\n",
       "    </tr>\n",
       "    <tr>\n",
       "      <th>3</th>\n",
       "      <td>23.68</td>\n",
       "      <td>3.31</td>\n",
       "      <td>Male</td>\n",
       "      <td>No</td>\n",
       "      <td>Sun</td>\n",
       "      <td>Dinner</td>\n",
       "      <td>2</td>\n",
       "    </tr>\n",
       "    <tr>\n",
       "      <th>4</th>\n",
       "      <td>24.59</td>\n",
       "      <td>3.61</td>\n",
       "      <td>Female</td>\n",
       "      <td>No</td>\n",
       "      <td>Sun</td>\n",
       "      <td>Dinner</td>\n",
       "      <td>4</td>\n",
       "    </tr>\n",
       "    <tr>\n",
       "      <th>...</th>\n",
       "      <td>...</td>\n",
       "      <td>...</td>\n",
       "      <td>...</td>\n",
       "      <td>...</td>\n",
       "      <td>...</td>\n",
       "      <td>...</td>\n",
       "      <td>...</td>\n",
       "    </tr>\n",
       "    <tr>\n",
       "      <th>239</th>\n",
       "      <td>29.03</td>\n",
       "      <td>5.92</td>\n",
       "      <td>Male</td>\n",
       "      <td>No</td>\n",
       "      <td>Sat</td>\n",
       "      <td>Dinner</td>\n",
       "      <td>3</td>\n",
       "    </tr>\n",
       "    <tr>\n",
       "      <th>240</th>\n",
       "      <td>27.18</td>\n",
       "      <td>2.00</td>\n",
       "      <td>Female</td>\n",
       "      <td>Yes</td>\n",
       "      <td>Sat</td>\n",
       "      <td>Dinner</td>\n",
       "      <td>2</td>\n",
       "    </tr>\n",
       "    <tr>\n",
       "      <th>241</th>\n",
       "      <td>22.67</td>\n",
       "      <td>2.00</td>\n",
       "      <td>Male</td>\n",
       "      <td>Yes</td>\n",
       "      <td>Sat</td>\n",
       "      <td>Dinner</td>\n",
       "      <td>2</td>\n",
       "    </tr>\n",
       "    <tr>\n",
       "      <th>242</th>\n",
       "      <td>17.82</td>\n",
       "      <td>1.75</td>\n",
       "      <td>Male</td>\n",
       "      <td>No</td>\n",
       "      <td>Sat</td>\n",
       "      <td>Dinner</td>\n",
       "      <td>2</td>\n",
       "    </tr>\n",
       "    <tr>\n",
       "      <th>243</th>\n",
       "      <td>18.78</td>\n",
       "      <td>3.00</td>\n",
       "      <td>Female</td>\n",
       "      <td>No</td>\n",
       "      <td>Thur</td>\n",
       "      <td>Dinner</td>\n",
       "      <td>2</td>\n",
       "    </tr>\n",
       "  </tbody>\n",
       "</table>\n",
       "<p>244 rows × 7 columns</p>\n",
       "</div>"
      ],
      "text/plain": [
       "     total_bill   tip     sex smoker   day    time  size\n",
       "0         16.99  1.01  Female     No   Sun  Dinner     2\n",
       "1         10.34  1.66    Male     No   Sun  Dinner     3\n",
       "2         21.01  3.50    Male     No   Sun  Dinner     3\n",
       "3         23.68  3.31    Male     No   Sun  Dinner     2\n",
       "4         24.59  3.61  Female     No   Sun  Dinner     4\n",
       "..          ...   ...     ...    ...   ...     ...   ...\n",
       "239       29.03  5.92    Male     No   Sat  Dinner     3\n",
       "240       27.18  2.00  Female    Yes   Sat  Dinner     2\n",
       "241       22.67  2.00    Male    Yes   Sat  Dinner     2\n",
       "242       17.82  1.75    Male     No   Sat  Dinner     2\n",
       "243       18.78  3.00  Female     No  Thur  Dinner     2\n",
       "\n",
       "[244 rows x 7 columns]"
      ]
     },
     "execution_count": 5,
     "metadata": {},
     "output_type": "execute_result"
    }
   ],
   "source": [
    "df = sns.load_dataset(\"tips\")\n",
    "df"
   ]
  },
  {
   "cell_type": "markdown",
   "id": "2f0ff51c-703f-400b-9761-93f0f68a980b",
   "metadata": {},
   "source": [
    "Lets find the linear function that would predict a response. Let the independent variable be total_bill and dependent be tip."
   ]
  },
  {
   "cell_type": "code",
   "execution_count": 6,
   "id": "f14a298e-b5a2-4b77-98c7-58f173b5a725",
   "metadata": {},
   "outputs": [],
   "source": [
    "total_bill = df[\"total_bill\"]\n",
    "tip = df[\"tip\"]"
   ]
  },
  {
   "cell_type": "code",
   "execution_count": 7,
   "id": "5da565be-f3c0-48b0-b441-79c8573e60cb",
   "metadata": {},
   "outputs": [
    {
     "data": {
      "text/plain": [
       "<Axes: xlabel='total_bill', ylabel='tip'>"
      ]
     },
     "execution_count": 7,
     "metadata": {},
     "output_type": "execute_result"
    },
    {
     "data": {
      "image/png": "[encoded data removed]",
      "text/plain": [
       "<Figure size 640x480 with 1 Axes>"
      ]
     },
     "metadata": {},
     "output_type": "display_data"
    }
   ],
   "source": [
    "sns.scatterplot(x=total_bill, y=tip)"
   ]
  },
  {
   "cell_type": "markdown",
   "id": "02cf099b-346d-402f-b9ec-c20e72dc06e1",
   "metadata": {},
   "source": [
    "From the plot it looks there can be a line created, so lets try that"
   ]
  },
  {
   "cell_type": "code",
   "execution_count": 8,
   "id": "5f0fc0f4-7f92-498c-bb8b-4a3486abab11",
   "metadata": {},
   "outputs": [
    {
     "name": "stdout",
     "output_type": "stream",
     "text": [
      "y = 0.9202696135546786+0.10502451738435324x\n"
     ]
    }
   ],
   "source": [
    "def linear_regression_equation(x, y):\n",
    "    length = len(x)\n",
    "    sum_x = sum(x)\n",
    "    sum_y = sum(y)\n",
    "    sum_x_sq = sum([ele**2 for ele in x])\n",
    "    sum_xy = sum([ele_1*ele_2 for ele_1, ele_2 in zip(x, y)])\n",
    "    relation_a = sum_x_sq / sum_x\n",
    "    relation_b = sum_x / length\n",
    "    new_sum_x = sum_x * relation_b\n",
    "    new_sum_y = sum_y * relation_b\n",
    "    a = (sum_xy - new_sum_y) / (sum_x_sq - new_sum_x)\n",
    "    new_length = length * relation_a\n",
    "    new_sum_y = sum_y * relation_a\n",
    "    b = (sum_xy - new_sum_y) / (sum_x-new_length)\n",
    "    \n",
    "    return (a, b)\n",
    "\n",
    "a, b = linear_regression_equation(total_bill, tip)\n",
    "print(f\"y = {b}+{a}x\")"
   ]
  },
  {
   "cell_type": "markdown",
   "id": "307b40b3-01b7-4e6d-aa45-c5fe9f6b15c8",
   "metadata": {},
   "source": [
    "The above shows the equation for the line where,\n",
    "\n",
    "* Coefficient of x shows the slope\n",
    "* The other value is the intercept"
   ]
  },
  {
   "cell_type": "code",
   "execution_count": 9,
   "id": "258c8d9e-2360-418f-8f81-fdf353598916",
   "metadata": {},
   "outputs": [
    {
     "data": {
      "text/plain": [
       "<Axes: xlabel='total_bill'>"
      ]
     },
     "execution_count": 9,
     "metadata": {},
     "output_type": "execute_result"
    },
    {
     "data": {
      "image/png": "[encoded data removed]",
      "text/plain": [
       "<Figure size 640x480 with 1 Axes>"
      ]
     },
     "metadata": {},
     "output_type": "display_data"
    }
   ],
   "source": [
    "x = total_bill\n",
    "y = [a*ele + b for ele in x]\n",
    "sns.lineplot(x=x, y=y, label=f'y = {a}x + {b}')"
   ]
  },
  {
   "cell_type": "markdown",
   "id": "6d40aa1d-6d8d-43e7-87d5-0de170bd3370",
   "metadata": {},
   "source": [
    "Above is the line plotted from the slope and the intercept. Lets plot the line and data together."
   ]
  },
  {
   "cell_type": "code",
   "execution_count": 10,
   "id": "ec529e89-9b36-4290-856b-73d3452a4f3d",
   "metadata": {},
   "outputs": [
    {
     "data": {
      "text/plain": [
       "<Axes: xlabel='total_bill', ylabel='tip'>"
      ]
     },
     "execution_count": 10,
     "metadata": {},
     "output_type": "execute_result"
    },
    {
     "data": {
      "image/png": "[encoded data removed]",
      "text/plain": [
       "<Figure size 640x480 with 1 Axes>"
      ]
     },
     "metadata": {},
     "output_type": "display_data"
    }
   ],
   "source": [
    "ax = sns.scatterplot(x=total_bill, y=tip, color=\"Cyan\")\n",
    "sns.lineplot(ax=ax, x=x, y=y, label=f'y = {a}x + {b}', color=\"Orange\")"
   ]
  },
  {
   "cell_type": "markdown",
   "id": "d993d13a-1f72-4943-af7d-b510682069cd",
   "metadata": {},
   "source": [
    "The above plot shows the data plotted with the line we got from simple linear regression"
   ]
  },
  {
   "cell_type": "markdown",
   "id": "afc9663c-f51b-4d7a-a198-acee12bacd4c",
   "metadata": {},
   "source": [
    "### Multiple Linear Regression\n",
    "<p>\n",
    "    This involves predicting a dependent variable based on multiple independent variables.\n",
    "</p>"
   ]
  },
  {
   "cell_type": "code",
   "execution_count": null,
   "id": "191cf937-5cb6-43b0-93b4-f4e6ca4de76e",
   "metadata": {},
   "outputs": [],
   "source": []
  }
 ],
 "metadata": {
  "kernelspec": {
   "display_name": "Python 3 (ipykernel)",
   "language": "python",
   "name": "python3"
  },
  "language_info": {
   "codemirror_mode": {
    "name": "ipython",
    "version": 3
   },
   "file_extension": ".py",
   "mimetype": "text/x-python",
   "name": "python",
   "nbconvert_exporter": "python",
   "pygments_lexer": "ipython3",
   "version": "3.12.2"
  }
 },
 "nbformat": 4,
 "nbformat_minor": 5
}
