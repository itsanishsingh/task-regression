{
 "cells": [
  {
   "cell_type": "markdown",
   "id": "9373e208-3291-469b-80ea-badaff029d08",
   "metadata": {},
   "source": [
    "# Correlation and Regression Analysis"
   ]
  },
  {
   "cell_type": "markdown",
   "id": "229acc4d-0afa-4ef6-adb7-48febc3766e4",
   "metadata": {},
   "source": [
    "## Correlation Analysis\n",
    "<p>\n",
    "    Correlation analysis is a statistical technique for determining the strength of a link between two variables. It is used to detect patterns and trends in data and to forecast future occurrences.\n",
    "</p>\n",
    "\n",
    "* Consider a problem with different factors to be considered for making optimal conclusions\n",
    "* Correlation explains how these variables are dependent on each other.\n",
    "* Correlation quantifies how strong the relationship between two variables is. A higher value of the correlation coefficient implies a stronger association.\n",
    "* The sign of the correlation coefficient indicates the direction of the relationship between variables. It can be either positive, negative, or zero."
   ]
  },
  {
   "cell_type": "code",
   "execution_count": null,
   "id": "1cb7a393-721a-4a79-8ab2-59726fdee8ef",
   "metadata": {},
   "outputs": [],
   "source": []
  }
 ],
 "metadata": {
  "kernelspec": {
   "display_name": "Python 3 (ipykernel)",
   "language": "python",
   "name": "python3"
  },
  "language_info": {
   "codemirror_mode": {
    "name": "ipython",
    "version": 3
   },
   "file_extension": ".py",
   "mimetype": "text/x-python",
   "name": "python",
   "nbconvert_exporter": "python",
   "pygments_lexer": "ipython3",
   "version": "3.12.2"
  }
 },
 "nbformat": 4,
 "nbformat_minor": 5
}
